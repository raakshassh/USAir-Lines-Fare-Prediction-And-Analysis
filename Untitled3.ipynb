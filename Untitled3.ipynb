{
 "cells": [
  {
   "cell_type": "code",
   "execution_count": 9,
   "id": "1238b53e",
   "metadata": {},
   "outputs": [
    {
     "name": "stdout",
     "output_type": "stream",
     "text": [
      "<class 'pandas.core.frame.DataFrame'>\n",
      "RangeIndex: 1000 entries, 0 to 999\n",
      "Data columns (total 13 columns):\n",
      " #   Column                  Non-Null Count  Dtype  \n",
      "---  ------                  --------------  -----  \n",
      " 0   Year                    1000 non-null   int64  \n",
      " 1   quarter                 1000 non-null   int64  \n",
      " 2   OriginCityId            1000 non-null   int64  \n",
      " 3   DestinationCityID       1000 non-null   int64  \n",
      " 4   OriginCity              1000 non-null   object \n",
      " 5   DestinationCity         1000 non-null   object \n",
      " 6   OriginAirportId         1000 non-null   int64  \n",
      " 7   DestinationAirportID    1000 non-null   int64  \n",
      " 8   OriginAirportCode       1000 non-null   object \n",
      " 9   DestinationAirportCode  1000 non-null   object \n",
      " 10  dist bw ap in miles     1000 non-null   int64  \n",
      " 11  passengers              1000 non-null   int64  \n",
      " 12  fare                    1000 non-null   float64\n",
      "dtypes: float64(1), int64(8), object(4)\n",
      "memory usage: 101.7+ KB\n"
     ]
    },
    {
     "data": {
      "text/plain": [
       "(None,\n",
       "    Year  quarter  OriginCityId  DestinationCityID  \\\n",
       " 0  2021        3         30135              33195   \n",
       " 1  2021        3         30135              33195   \n",
       " 2  2021        3         30140              30194   \n",
       " 3  2021        3         30140              30194   \n",
       " 4  2021        3         30140              30466   \n",
       " \n",
       "                        OriginCity                DestinationCity  \\\n",
       " 0  Allentown/Bethlehem/Easton, PA  Tampa, FL (Metropolitan Area)   \n",
       " 1  Allentown/Bethlehem/Easton, PA  Tampa, FL (Metropolitan Area)   \n",
       " 2                 Albuquerque, NM          Dallas/Fort Worth, TX   \n",
       " 3                 Albuquerque, NM          Dallas/Fort Worth, TX   \n",
       " 4                 Albuquerque, NM                    Phoenix, AZ   \n",
       " \n",
       "    OriginAirportId  DestinationAirportID OriginAirportCode  \\\n",
       " 0            10135                 14112               ABE   \n",
       " 1            10135                 15304               ABE   \n",
       " 2            10140                 11259               ABQ   \n",
       " 3            10140                 11298               ABQ   \n",
       " 4            10140                 14107               ABQ   \n",
       " \n",
       "   DestinationAirportCode  dist bw ap in miles  passengers    fare  \n",
       " 0                    PIE                  970         180   81.43  \n",
       " 1                    TPA                  970          19  208.93  \n",
       " 2                    DAL                  580         204  184.56  \n",
       " 3                    DFW                  580         264  182.64  \n",
       " 4                    PHX                  328         398  177.11  )"
      ]
     },
     "execution_count": 9,
     "metadata": {},
     "output_type": "execute_result"
    }
   ],
   "source": [
    "import pandas as pd\n",
    "\n",
    "# Load the dataset to examine its structure\n",
    "file_path = 'C:/Users/ashut/Downloads/USAIR.csv'\n",
    "df = pd.read_csv(file_path)\n",
    "\n",
    "# Display the first few rows and summary of the dataframe\n",
    "df_info = df.info()\n",
    "df_head = df.head()\n",
    "\n",
    "df_info, df_head\n"
   ]
  },
  {
   "cell_type": "code",
   "execution_count": 12,
   "id": "d737eed0",
   "metadata": {},
   "outputs": [
    {
     "name": "stdout",
     "output_type": "stream",
     "text": [
      "Error in column: OriginCity\n",
      "could not convert string to float: 'Allentown/Bethlehem/Easton, PA'\n",
      "Error in column: DestinationCity\n",
      "could not convert string to float: 'Tampa, FL (Metropolitan Area)'\n",
      "Error in column: OriginAirportCode\n",
      "could not convert string to float: 'ABE'\n",
      "Error in column: DestinationAirportCode\n",
      "could not convert string to float: 'PIE'\n"
     ]
    }
   ],
   "source": [
    "for column in df.columns:\n",
    "    try:\n",
    "        df[column].astype(float)\n",
    "    except ValueError as e:\n",
    "        print(f\"Error in column: {column}\")\n",
    "        print(e)\n"
   ]
  },
  {
   "cell_type": "code",
   "execution_count": 13,
   "id": "34b2761b",
   "metadata": {},
   "outputs": [
    {
     "name": "stdout",
     "output_type": "stream",
     "text": [
      "['Allentown/Bethlehem/Easton, PA' 'Albuquerque, NM' 'Nantucket, MA'\n",
      " 'Colorado Springs, CO' 'Dallas/Fort Worth, TX' 'Pittsburgh, PA'\n",
      " 'Huntsville, AL' 'Albany, NY' 'Amarillo, TX' 'Denver, CO'\n",
      " 'Atlanta, GA (Metropolitan Area)' 'Austin, TX' 'Asheville, NC'\n",
      " 'Tucson, AZ' 'Phoenix, AZ' 'Hartford, CT' 'Seattle, WA' 'Birmingham, AL'\n",
      " 'El Paso, TX' 'Cleveland, OH (Metropolitan Area)' 'Nashville, TN'\n",
      " 'Boise, ID' 'Boston, MA (Metropolitan Area)' 'Burlington, VT'\n",
      " 'Buffalo, NY' 'Bozeman, MT' 'Washington, DC (Metropolitan Area)'\n",
      " 'Chicago, IL' 'Charleston, SC' 'Cedar Rapids/Iowa City, IA'\n",
      " 'Charlotte, NC' 'Columbus, OH' 'St. Louis, MO' 'Myrtle Beach, SC'\n",
      " 'Jacksonville, FL' 'Detroit, MI']\n"
     ]
    }
   ],
   "source": [
    "problematic_column = \"OriginCity\"  # Replace with the actual column name\n",
    "print(df[problematic_column].unique())\n"
   ]
  },
  {
   "cell_type": "code",
   "execution_count": 14,
   "id": "9b0dafd4",
   "metadata": {},
   "outputs": [
    {
     "name": "stdout",
     "output_type": "stream",
     "text": [
      "['Tampa, FL (Metropolitan Area)' 'Dallas/Fort Worth, TX' 'Phoenix, AZ'\n",
      " 'Boston, MA (Metropolitan Area)' 'Washington, DC (Metropolitan Area)'\n",
      " 'Chicago, IL' 'Houston, TX' 'New York City, NY (Metropolitan Area)'\n",
      " 'San Francisco, CA (Metropolitan Area)'\n",
      " 'Los Angeles, CA (Metropolitan Area)' 'Pittsburgh, PA' 'Denver, CO'\n",
      " 'Tucson, AZ' 'Hartford, CT' 'Seattle, WA' 'El Paso, TX' 'Nashville, TN'\n",
      " 'St. Louis, MO' 'Myrtle Beach, SC' 'Jacksonville, FL' 'Detroit, MI'\n",
      " 'Des Moines, IA' 'Orlando, FL' 'Panama City, FL' 'Valparaiso, FL'\n",
      " 'Fresno, CA' 'Minneapolis/St. Paul, MN' 'Fort Myers, FL'\n",
      " 'Greenville/Spartanburg, SC' 'Spokane, WA' 'Grand Rapids, MI'\n",
      " 'Harlingen/San Benito, TX' 'Las Vegas, NV' 'Indianapolis, IN'\n",
      " 'Miami, FL (Metropolitan Area)' 'Little Rock, AR' 'Lubbock, TX'\n",
      " 'Louisville, KY' 'Midland/Odessa, TX' 'Sacramento, CA' 'Kansas City, MO'\n",
      " 'San Antonio, TX' 'Memphis, TN' 'Omaha, NE' 'Milwaukee, WI'\n",
      " 'New Orleans, LA' 'San Diego, CA' 'Norfolk, VA (Metropolitan Area)'\n",
      " 'Pensacola, FL' 'West Palm Beach/Palm Beach, FL' 'Portland, OR'\n",
      " 'Philadelphia, PA' 'Raleigh/Durham, NC' 'Richmond, VA' 'Reno, NV'\n",
      " 'Salt Lake City, UT' 'Tulsa, OK' 'Savannah, GA' 'Knoxville, TN'\n",
      " 'Cleveland, OH (Metropolitan Area)' 'Columbus, OH' 'Sioux Falls, SD'\n",
      " 'Sarasota/Bradenton, FL' 'Buffalo, NY' 'Bozeman, MT' 'Charleston, SC'\n",
      " 'Charlotte, NC' 'Cincinnati, OH' 'Colorado Springs, CO'\n",
      " 'Oklahoma City, OK' 'Portland, ME' 'Syracuse, NY']\n"
     ]
    }
   ],
   "source": [
    "problematic_column = \"DestinationCity\"  # Replace with the actual column name\n",
    "print(df[problematic_column].unique())\n"
   ]
  },
  {
   "cell_type": "code",
   "execution_count": 15,
   "id": "a14ce573",
   "metadata": {},
   "outputs": [
    {
     "name": "stdout",
     "output_type": "stream",
     "text": [
      "['ABE' 'ABQ' 'ACK' 'COS' 'DAL' 'DFW' 'PIT' 'HSV' 'ALB' 'AMA' 'DEN' 'ATL'\n",
      " 'AUS' 'AVL' 'TUS' 'AZA' 'PHX' 'BDL' 'SEA' 'BHM' 'ELP' 'CAK' 'CLE' 'BNA'\n",
      " 'BOI' 'BOS' 'MHT' 'PVD' 'BTV' 'BUF' 'BZN' 'BWI' 'DCA' 'IAD' 'MDW' 'ORD'\n",
      " 'CHS' 'CID' 'CLT' 'CMH' 'LCK' 'STL' 'MYR' 'JAX' 'DTW']\n"
     ]
    }
   ],
   "source": [
    "problematic_column = \"OriginAirportCode\"  # Replace with the actual column name\n",
    "print(df[problematic_column].unique())\n"
   ]
  },
  {
   "cell_type": "code",
   "execution_count": 16,
   "id": "d93bef47",
   "metadata": {},
   "outputs": [
    {
     "name": "stdout",
     "output_type": "stream",
     "text": [
      "['PIE' 'TPA' 'DAL' 'DFW' 'PHX' 'BOS' 'MHT' 'PVD' 'BWI' 'DCA' 'IAD' 'MDW'\n",
      " 'ORD' 'HOU' 'IAH' 'EWR' 'HPN' 'ISP' 'JFK' 'LGA' 'SWF' 'OAK' 'SFO' 'SJC'\n",
      " 'BUR' 'LAX' 'LGB' 'ONT' 'SNA' 'PIT' 'DEN' 'TUS' 'BDL' 'SEA' 'ELP' 'BNA'\n",
      " 'STL' 'MYR' 'JAX' 'DTW' 'DSM' 'MCO' 'ECP' 'VPS' 'FAT' 'MSP' 'RSW' 'GSP'\n",
      " 'GEG' 'GRR' 'HRL' 'LAS' 'IND' 'FLL' 'MIA' 'LIT' 'LBB' 'SDF' 'MAF' 'SMF'\n",
      " 'MCI' 'SAT' 'MEM' 'OMA' 'MKE' 'MSY' 'SAN' 'ORF' 'PHF' 'PNS' 'PBI' 'PDX'\n",
      " 'PHL' 'RDU' 'RIC' 'RNO' 'SLC' 'TUL' 'SAV' 'TYS' 'CAK' 'CLE' 'CMH' 'FSD'\n",
      " 'SRQ' 'AZA' 'BUF' 'BZN' 'CHS' 'CLT' 'CVG' 'COS' 'OKC' 'PWM' 'SYR']\n"
     ]
    }
   ],
   "source": [
    "problematic_column = \"DestinationAirportCode\"  # Replace with the actual column name\n",
    "print(df[problematic_column].unique())\n"
   ]
  },
  {
   "cell_type": "code",
   "execution_count": 17,
   "id": "3da614b9",
   "metadata": {},
   "outputs": [],
   "source": [
    "df[problematic_column] = pd.to_numeric(df[problematic_column], errors='coerce')\n",
    "df = df.dropna(subset=[problematic_column])"
   ]
  },
  {
   "cell_type": "code",
   "execution_count": 18,
   "id": "742e348d",
   "metadata": {},
   "outputs": [
    {
     "ename": "KeyError",
     "evalue": "'Fare'",
     "output_type": "error",
     "traceback": [
      "\u001b[1;31m---------------------------------------------------------------------------\u001b[0m",
      "\u001b[1;31mKeyError\u001b[0m                                  Traceback (most recent call last)",
      "File \u001b[1;32m~\\anaconda3\\Lib\\site-packages\\pandas\\core\\indexes\\base.py:3653\u001b[0m, in \u001b[0;36mIndex.get_loc\u001b[1;34m(self, key)\u001b[0m\n\u001b[0;32m   3652\u001b[0m \u001b[38;5;28;01mtry\u001b[39;00m:\n\u001b[1;32m-> 3653\u001b[0m     \u001b[38;5;28;01mreturn\u001b[39;00m \u001b[38;5;28mself\u001b[39m\u001b[38;5;241m.\u001b[39m_engine\u001b[38;5;241m.\u001b[39mget_loc(casted_key)\n\u001b[0;32m   3654\u001b[0m \u001b[38;5;28;01mexcept\u001b[39;00m \u001b[38;5;167;01mKeyError\u001b[39;00m \u001b[38;5;28;01mas\u001b[39;00m err:\n",
      "File \u001b[1;32m~\\anaconda3\\Lib\\site-packages\\pandas\\_libs\\index.pyx:147\u001b[0m, in \u001b[0;36mpandas._libs.index.IndexEngine.get_loc\u001b[1;34m()\u001b[0m\n",
      "File \u001b[1;32m~\\anaconda3\\Lib\\site-packages\\pandas\\_libs\\index.pyx:176\u001b[0m, in \u001b[0;36mpandas._libs.index.IndexEngine.get_loc\u001b[1;34m()\u001b[0m\n",
      "File \u001b[1;32mpandas\\_libs\\hashtable_class_helper.pxi:7080\u001b[0m, in \u001b[0;36mpandas._libs.hashtable.PyObjectHashTable.get_item\u001b[1;34m()\u001b[0m\n",
      "File \u001b[1;32mpandas\\_libs\\hashtable_class_helper.pxi:7088\u001b[0m, in \u001b[0;36mpandas._libs.hashtable.PyObjectHashTable.get_item\u001b[1;34m()\u001b[0m\n",
      "\u001b[1;31mKeyError\u001b[0m: 'Fare'",
      "\nThe above exception was the direct cause of the following exception:\n",
      "\u001b[1;31mKeyError\u001b[0m                                  Traceback (most recent call last)",
      "Cell \u001b[1;32mIn[18], line 2\u001b[0m\n\u001b[0;32m      1\u001b[0m \u001b[38;5;66;03m# Assuming the column 'Fare' has some non-numeric values\u001b[39;00m\n\u001b[1;32m----> 2\u001b[0m df[\u001b[38;5;124m'\u001b[39m\u001b[38;5;124mFare\u001b[39m\u001b[38;5;124m'\u001b[39m] \u001b[38;5;241m=\u001b[39m pd\u001b[38;5;241m.\u001b[39mto_numeric(df[\u001b[38;5;124m'\u001b[39m\u001b[38;5;124mFare\u001b[39m\u001b[38;5;124m'\u001b[39m], errors\u001b[38;5;241m=\u001b[39m\u001b[38;5;124m'\u001b[39m\u001b[38;5;124mcoerce\u001b[39m\u001b[38;5;124m'\u001b[39m)\n\u001b[0;32m      3\u001b[0m \u001b[38;5;66;03m# Drop rows with NaN values in 'Fare'\u001b[39;00m\n\u001b[0;32m      4\u001b[0m df \u001b[38;5;241m=\u001b[39m df\u001b[38;5;241m.\u001b[39mdropna(subset\u001b[38;5;241m=\u001b[39m[\u001b[38;5;124m'\u001b[39m\u001b[38;5;124mFare\u001b[39m\u001b[38;5;124m'\u001b[39m])\n",
      "File \u001b[1;32m~\\anaconda3\\Lib\\site-packages\\pandas\\core\\frame.py:3761\u001b[0m, in \u001b[0;36mDataFrame.__getitem__\u001b[1;34m(self, key)\u001b[0m\n\u001b[0;32m   3759\u001b[0m \u001b[38;5;28;01mif\u001b[39;00m \u001b[38;5;28mself\u001b[39m\u001b[38;5;241m.\u001b[39mcolumns\u001b[38;5;241m.\u001b[39mnlevels \u001b[38;5;241m>\u001b[39m \u001b[38;5;241m1\u001b[39m:\n\u001b[0;32m   3760\u001b[0m     \u001b[38;5;28;01mreturn\u001b[39;00m \u001b[38;5;28mself\u001b[39m\u001b[38;5;241m.\u001b[39m_getitem_multilevel(key)\n\u001b[1;32m-> 3761\u001b[0m indexer \u001b[38;5;241m=\u001b[39m \u001b[38;5;28mself\u001b[39m\u001b[38;5;241m.\u001b[39mcolumns\u001b[38;5;241m.\u001b[39mget_loc(key)\n\u001b[0;32m   3762\u001b[0m \u001b[38;5;28;01mif\u001b[39;00m is_integer(indexer):\n\u001b[0;32m   3763\u001b[0m     indexer \u001b[38;5;241m=\u001b[39m [indexer]\n",
      "File \u001b[1;32m~\\anaconda3\\Lib\\site-packages\\pandas\\core\\indexes\\base.py:3655\u001b[0m, in \u001b[0;36mIndex.get_loc\u001b[1;34m(self, key)\u001b[0m\n\u001b[0;32m   3653\u001b[0m     \u001b[38;5;28;01mreturn\u001b[39;00m \u001b[38;5;28mself\u001b[39m\u001b[38;5;241m.\u001b[39m_engine\u001b[38;5;241m.\u001b[39mget_loc(casted_key)\n\u001b[0;32m   3654\u001b[0m \u001b[38;5;28;01mexcept\u001b[39;00m \u001b[38;5;167;01mKeyError\u001b[39;00m \u001b[38;5;28;01mas\u001b[39;00m err:\n\u001b[1;32m-> 3655\u001b[0m     \u001b[38;5;28;01mraise\u001b[39;00m \u001b[38;5;167;01mKeyError\u001b[39;00m(key) \u001b[38;5;28;01mfrom\u001b[39;00m \u001b[38;5;21;01merr\u001b[39;00m\n\u001b[0;32m   3656\u001b[0m \u001b[38;5;28;01mexcept\u001b[39;00m \u001b[38;5;167;01mTypeError\u001b[39;00m:\n\u001b[0;32m   3657\u001b[0m     \u001b[38;5;66;03m# If we have a listlike key, _check_indexing_error will raise\u001b[39;00m\n\u001b[0;32m   3658\u001b[0m     \u001b[38;5;66;03m#  InvalidIndexError. Otherwise we fall through and re-raise\u001b[39;00m\n\u001b[0;32m   3659\u001b[0m     \u001b[38;5;66;03m#  the TypeError.\u001b[39;00m\n\u001b[0;32m   3660\u001b[0m     \u001b[38;5;28mself\u001b[39m\u001b[38;5;241m.\u001b[39m_check_indexing_error(key)\n",
      "\u001b[1;31mKeyError\u001b[0m: 'Fare'"
     ]
    }
   ],
   "source": [
    "# Assuming the column 'Fare' has some non-numeric values\n",
    "df['Fare'] = pd.to_numeric(df['Fare'], errors='coerce')\n",
    "# Drop rows with NaN values in 'Fare'\n",
    "df = df.dropna(subset=['Fare'])\n",
    "\n",
    "# Now, you can safely proceed with your analysis\n",
    "# Example: calculate the correlation\n",
    "correlation_matrix = df.corr()\n",
    "print(correlation_matrix)\n"
   ]
  },
  {
   "cell_type": "code",
   "execution_count": 19,
   "id": "fd6932b7",
   "metadata": {},
   "outputs": [
    {
     "name": "stdout",
     "output_type": "stream",
     "text": [
      "Index(['Year', 'quarter', 'OriginCityId', 'DestinationCityID', 'OriginCity',\n",
      "       'DestinationCity', 'OriginAirportId', 'DestinationAirportID',\n",
      "       'OriginAirportCode', 'DestinationAirportCode', 'dist bw ap in miles',\n",
      "       'passengers', 'fare'],\n",
      "      dtype='object')\n"
     ]
    }
   ],
   "source": [
    "print(df.columns)\n"
   ]
  },
  {
   "cell_type": "code",
   "execution_count": 20,
   "id": "8bc27c97",
   "metadata": {},
   "outputs": [
    {
     "name": "stdout",
     "output_type": "stream",
     "text": [
      "                        Year  quarter  OriginCityId  DestinationCityID  \\\n",
      "Year                     NaN      NaN           NaN                NaN   \n",
      "quarter                  NaN      NaN           NaN                NaN   \n",
      "OriginCityId             NaN      NaN           NaN                NaN   \n",
      "DestinationCityID        NaN      NaN           NaN                NaN   \n",
      "OriginCity               NaN      NaN           NaN                NaN   \n",
      "DestinationCity          NaN      NaN           NaN                NaN   \n",
      "OriginAirportId          NaN      NaN           NaN                NaN   \n",
      "DestinationAirportID     NaN      NaN           NaN                NaN   \n",
      "OriginAirportCode        NaN      NaN           NaN                NaN   \n",
      "DestinationAirportCode   NaN      NaN           NaN                NaN   \n",
      "dist bw ap in miles      NaN      NaN           NaN                NaN   \n",
      "passengers               NaN      NaN           NaN                NaN   \n",
      "fare                     NaN      NaN           NaN                NaN   \n",
      "\n",
      "                        OriginCity  DestinationCity  OriginAirportId  \\\n",
      "Year                           NaN              NaN              NaN   \n",
      "quarter                        NaN              NaN              NaN   \n",
      "OriginCityId                   NaN              NaN              NaN   \n",
      "DestinationCityID              NaN              NaN              NaN   \n",
      "OriginCity                     NaN              NaN              NaN   \n",
      "DestinationCity                NaN              NaN              NaN   \n",
      "OriginAirportId                NaN              NaN              NaN   \n",
      "DestinationAirportID           NaN              NaN              NaN   \n",
      "OriginAirportCode              NaN              NaN              NaN   \n",
      "DestinationAirportCode         NaN              NaN              NaN   \n",
      "dist bw ap in miles            NaN              NaN              NaN   \n",
      "passengers                     NaN              NaN              NaN   \n",
      "fare                           NaN              NaN              NaN   \n",
      "\n",
      "                        DestinationAirportID  OriginAirportCode  \\\n",
      "Year                                     NaN                NaN   \n",
      "quarter                                  NaN                NaN   \n",
      "OriginCityId                             NaN                NaN   \n",
      "DestinationCityID                        NaN                NaN   \n",
      "OriginCity                               NaN                NaN   \n",
      "DestinationCity                          NaN                NaN   \n",
      "OriginAirportId                          NaN                NaN   \n",
      "DestinationAirportID                     NaN                NaN   \n",
      "OriginAirportCode                        NaN                NaN   \n",
      "DestinationAirportCode                   NaN                NaN   \n",
      "dist bw ap in miles                      NaN                NaN   \n",
      "passengers                               NaN                NaN   \n",
      "fare                                     NaN                NaN   \n",
      "\n",
      "                        DestinationAirportCode  dist bw ap in miles  \\\n",
      "Year                                       NaN                  NaN   \n",
      "quarter                                    NaN                  NaN   \n",
      "OriginCityId                               NaN                  NaN   \n",
      "DestinationCityID                          NaN                  NaN   \n",
      "OriginCity                                 NaN                  NaN   \n",
      "DestinationCity                            NaN                  NaN   \n",
      "OriginAirportId                            NaN                  NaN   \n",
      "DestinationAirportID                       NaN                  NaN   \n",
      "OriginAirportCode                          NaN                  NaN   \n",
      "DestinationAirportCode                     NaN                  NaN   \n",
      "dist bw ap in miles                        NaN                  NaN   \n",
      "passengers                                 NaN                  NaN   \n",
      "fare                                       NaN                  NaN   \n",
      "\n",
      "                        passengers  fare  \n",
      "Year                           NaN   NaN  \n",
      "quarter                        NaN   NaN  \n",
      "OriginCityId                   NaN   NaN  \n",
      "DestinationCityID              NaN   NaN  \n",
      "OriginCity                     NaN   NaN  \n",
      "DestinationCity                NaN   NaN  \n",
      "OriginAirportId                NaN   NaN  \n",
      "DestinationAirportID           NaN   NaN  \n",
      "OriginAirportCode              NaN   NaN  \n",
      "DestinationAirportCode         NaN   NaN  \n",
      "dist bw ap in miles            NaN   NaN  \n",
      "passengers                     NaN   NaN  \n",
      "fare                           NaN   NaN  \n"
     ]
    }
   ],
   "source": [
    "# Assuming the column 'Fare' has some non-numeric values\n",
    "df['fare'] = pd.to_numeric(df['fare'], errors='coerce')\n",
    "# Drop rows with NaN values in 'Fare'\n",
    "df = df.dropna(subset=['fare'])\n",
    "\n",
    "# Now, you can safely proceed with your analysis\n",
    "# Example: calculate the correlation\n",
    "correlation_matrix = df.corr()\n",
    "print(correlation_matrix)\n"
   ]
  },
  {
   "cell_type": "code",
   "execution_count": 23,
   "id": "789cfdc2",
   "metadata": {},
   "outputs": [
    {
     "name": "stdout",
     "output_type": "stream",
     "text": [
      "   Year  quarter  OriginCityId  DestinationCityID  \\\n",
      "0  2021        3         30135              33195   \n",
      "1  2021        3         30135              33195   \n",
      "2  2021        3         30140              30194   \n",
      "3  2021        3         30140              30194   \n",
      "4  2021        3         30140              30466   \n",
      "\n",
      "                       OriginCity                DestinationCity  \\\n",
      "0  Allentown/Bethlehem/Easton, PA  Tampa, FL (Metropolitan Area)   \n",
      "1  Allentown/Bethlehem/Easton, PA  Tampa, FL (Metropolitan Area)   \n",
      "2                 Albuquerque, NM          Dallas/Fort Worth, TX   \n",
      "3                 Albuquerque, NM          Dallas/Fort Worth, TX   \n",
      "4                 Albuquerque, NM                    Phoenix, AZ   \n",
      "\n",
      "   OriginAirportId  DestinationAirportID OriginAirportCode  \\\n",
      "0            10135                 14112               ABE   \n",
      "1            10135                 15304               ABE   \n",
      "2            10140                 11259               ABQ   \n",
      "3            10140                 11298               ABQ   \n",
      "4            10140                 14107               ABQ   \n",
      "\n",
      "  DestinationAirportCode  dist bw ap in miles  passengers    fare  \n",
      "0                    PIE                  970         180   81.43  \n",
      "1                    TPA                  970          19  208.93  \n",
      "2                    DAL                  580         204  184.56  \n",
      "3                    DFW                  580         264  182.64  \n",
      "4                    PHX                  328         398  177.11  \n",
      "Mean Absolute Error: 29.306512\n",
      "Mean Squared Error: 1948.3828658662992\n",
      "Root Mean Squared Error: 44.140490095447504\n",
      "     Actual  Predicted\n",
      "521  248.91   197.5428\n",
      "737  203.99   215.1006\n",
      "740  167.36   181.3520\n",
      "660  339.53   331.1409\n",
      "411  110.28   172.5044\n"
     ]
    }
   ],
   "source": [
    "import pandas as pd\n",
    "from sklearn.model_selection import train_test_split\n",
    "from sklearn.preprocessing import LabelEncoder\n",
    "from sklearn.ensemble import RandomForestRegressor\n",
    "from sklearn.metrics import mean_absolute_error, mean_squared_error\n",
    "\n",
    "# Load the dataset\n",
    "file_path = 'C:/Users/ashut/Downloads/USAIR.csv'\n",
    "df = pd.read_csv(file_path)\n",
    "\n",
    "# Display the first few rows of the dataset\n",
    "print(df.head())\n",
    "\n",
    "# Check for the 'Fare' column\n",
    "if 'fare' not in df.columns:\n",
    "    print(\"The dataset does not have a 'Fare' column.\")\n",
    "else:\n",
    "    # Handling missing values\n",
    "    df['fare'] = pd.to_numeric(df['fare'], errors='coerce')\n",
    "    df = df.dropna(subset=['fare'])\n",
    "\n",
    "    # Fill missing values for other columns (if necessary)\n",
    "    df.fillna(method='ffill', inplace=True)\n",
    "\n",
    "    # Encode categorical features\n",
    "    label_encoders = {}\n",
    "    for column in df.select_dtypes(include=['object']).columns:\n",
    "        le = LabelEncoder()\n",
    "        df[column] = le.fit_transform(df[column])\n",
    "        label_encoders[column] = le\n",
    "\n",
    "    # Split the dataset into features and target variable\n",
    "    X = df.drop(columns=['fare'])\n",
    "    y = df['fare']\n",
    "\n",
    "    # Split the data into training and testing sets\n",
    "    X_train, X_test, y_train, y_test = train_test_split(X, y, test_size=0.2, random_state=42)\n",
    "\n",
    "    # Train a RandomForestRegressor model\n",
    "    model = RandomForestRegressor(n_estimators=100, random_state=42)\n",
    "    model.fit(X_train, y_train)\n",
    "\n",
    "    # Make predictions\n",
    "    y_pred = model.predict(X_test)\n",
    "\n",
    "    # Evaluate the model\n",
    "    mae = mean_absolute_error(y_test, y_pred)\n",
    "    mse = mean_squared_error(y_test, y_pred)\n",
    "    rmse = mean_squared_error(y_test, y_pred, squared=False)\n",
    "\n",
    "    print(f'Mean Absolute Error: {mae}')\n",
    "    print(f'Mean Squared Error: {mse}')\n",
    "    print(f'Root Mean Squared Error: {rmse}')\n",
    "\n",
    "    # Display the first few predictions\n",
    "    predictions_df = pd.DataFrame({'Actual': y_test, 'Predicted': y_pred})\n",
    "    print(predictions_df.head())\n"
   ]
  },
  {
   "cell_type": "code",
   "execution_count": 24,
   "id": "86030eab",
   "metadata": {},
   "outputs": [
    {
     "name": "stdout",
     "output_type": "stream",
     "text": [
      "Feature Importances:\n",
      " dist bw ap in miles       0.509695\n",
      "passengers                0.192233\n",
      "DestinationAirportCode    0.049799\n",
      "OriginCityId              0.047967\n",
      "DestinationAirportID      0.046764\n",
      "OriginCity                0.043249\n",
      "DestinationCityID         0.037924\n",
      "DestinationCity           0.028120\n",
      "OriginAirportCode         0.023216\n",
      "OriginAirportId           0.021033\n",
      "Year                      0.000000\n",
      "quarter                   0.000000\n",
      "dtype: float64\n"
     ]
    },
    {
     "data": {
      "text/plain": [
       "<Axes: title={'center': 'Feature Importance'}>"
      ]
     },
     "execution_count": 24,
     "metadata": {},
     "output_type": "execute_result"
    },
    {
     "data": {
      "image/png": "[encoded data removed]",
      "text/plain": [
       "<Figure size 640x480 with 1 Axes>"
      ]
     },
     "metadata": {},
     "output_type": "display_data"
    }
   ],
   "source": [
    "# Feature importance analysis\n",
    "feature_importances = pd.Series(model.feature_importances_, index=X.columns)\n",
    "feature_importances.sort_values(ascending=False, inplace=True)\n",
    "print(\"Feature Importances:\\n\", feature_importances)\n",
    "\n",
    "# Plot feature importances\n",
    "feature_importances.plot(kind='bar', title='Feature Importance')\n"
   ]
  },
  {
   "cell_type": "code",
   "execution_count": 25,
   "id": "63d4ac34",
   "metadata": {},
   "outputs": [
    {
     "name": "stdout",
     "output_type": "stream",
     "text": [
      "Fitting 5 folds for each of 108 candidates, totalling 540 fits\n",
      "Best Parameters: {'max_depth': None, 'min_samples_leaf': 4, 'min_samples_split': 2, 'n_estimators': 50}\n",
      "Best Model Mean Absolute Error: 28.922445430377223\n",
      "Best Model Mean Squared Error: 1821.7406067616173\n",
      "Best Model Root Mean Squared Error: 42.681853366057304\n"
     ]
    }
   ],
   "source": [
    "from sklearn.model_selection import GridSearchCV\n",
    "\n",
    "# Define the parameter grid\n",
    "param_grid = {\n",
    "    'n_estimators': [50, 100, 200],\n",
    "    'max_depth': [None, 10, 20, 30],\n",
    "    'min_samples_split': [2, 5, 10],\n",
    "    'min_samples_leaf': [1, 2, 4]\n",
    "}\n",
    "\n",
    "# Initialize GridSearchCV\n",
    "grid_search = GridSearchCV(estimator=model, param_grid=param_grid, cv=5, n_jobs=-1, verbose=2)\n",
    "\n",
    "# Fit the model\n",
    "grid_search.fit(X_train, y_train)\n",
    "\n",
    "# Best parameters\n",
    "print(\"Best Parameters:\", grid_search.best_params_)\n",
    "\n",
    "# Best model\n",
    "best_model = grid_search.best_estimator_\n",
    "\n",
    "# Predict using the best model\n",
    "y_pred_best = best_model.predict(X_test)\n",
    "\n",
    "# Evaluate the best model\n",
    "best_mae = mean_absolute_error(y_test, y_pred_best)\n",
    "best_mse = mean_squared_error(y_test, y_pred_best)\n",
    "best_rmse = mean_squared_error(y_test, y_pred_best, squared=False)\n",
    "\n",
    "print(f'Best Model Mean Absolute Error: {best_mae}')\n",
    "print(f'Best Model Mean Squared Error: {best_mse}')\n",
    "print(f'Best Model Root Mean Squared Error: {best_rmse}')\n"
   ]
  },
  {
   "cell_type": "code",
   "execution_count": 26,
   "id": "94e2e97a",
   "metadata": {},
   "outputs": [
    {
     "ename": "NameError",
     "evalue": "name 'new_data' is not defined",
     "output_type": "error",
     "traceback": [
      "\u001b[1;31m---------------------------------------------------------------------------\u001b[0m",
      "\u001b[1;31mNameError\u001b[0m                                 Traceback (most recent call last)",
      "Cell \u001b[1;32mIn[26], line 2\u001b[0m\n\u001b[0;32m      1\u001b[0m \u001b[38;5;66;03m# Assuming new_data is a DataFrame with the same structure as X\u001b[39;00m\n\u001b[1;32m----> 2\u001b[0m new_data_predictions \u001b[38;5;241m=\u001b[39m model\u001b[38;5;241m.\u001b[39mpredict(new_data)\n\u001b[0;32m      3\u001b[0m \u001b[38;5;28mprint\u001b[39m(new_data_predictions)\n",
      "\u001b[1;31mNameError\u001b[0m: name 'new_data' is not defined"
     ]
    }
   ],
   "source": []
  },
  {
   "cell_type": "code",
   "execution_count": null,
   "id": "27a3b04a",
   "metadata": {},
   "outputs": [],
   "source": []
  }
 ],
 "metadata": {
  "kernelspec": {
   "display_name": "Python 3 (ipykernel)",
   "language": "python",
   "name": "python3"
  },
  "language_info": {
   "codemirror_mode": {
    "name": "ipython",
    "version": 3
   },
   "file_extension": ".py",
   "mimetype": "text/x-python",
   "name": "python",
   "nbconvert_exporter": "python",
   "pygments_lexer": "ipython3",
   "version": "3.11.5"
  }
 },
 "nbformat": 4,
 "nbformat_minor": 5
}
